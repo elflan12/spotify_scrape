{
  "nbformat": 4,
  "nbformat_minor": 0,
  "metadata": {
    "colab": {
      "name": "Spotify.scrape.ipynb",
      "provenance": [],
      "authorship_tag": "ABX9TyPQlMvM0o6PPlsUYhF22JZX",
      "include_colab_link": true
    },
    "kernelspec": {
      "name": "python3",
      "display_name": "Python 3"
    },
    "language_info": {
      "name": "python"
    }
  },
  "cells": [
    {
      "cell_type": "markdown",
      "metadata": {
        "id": "view-in-github",
        "colab_type": "text"
      },
      "source": [
        "<a href=\"https://colab.research.google.com/github/elflan12/spotify_seasons/blob/main/Spotify_scrape.ipynb\" target=\"_parent\"><img src=\"https://colab.research.google.com/assets/colab-badge.svg\" alt=\"Open In Colab\"/></a>"
      ]
    },
    {
      "cell_type": "code",
      "execution_count": 1,
      "metadata": {
        "colab": {
          "base_uri": "https://localhost:8080/"
        },
        "id": "L6FCOLV3SLMb",
        "outputId": "560b941f-d186-48a7-bff0-23973fb13221"
      },
      "outputs": [
        {
          "output_type": "stream",
          "name": "stdout",
          "text": [
            "Looking in indexes: https://pypi.org/simple, https://us-python.pkg.dev/colab-wheels/public/simple/\n",
            "Collecting spotipy\n",
            "  Downloading spotipy-2.20.0-py3-none-any.whl (27 kB)\n",
            "Collecting requests>=2.25.0\n",
            "  Downloading requests-2.28.0-py3-none-any.whl (62 kB)\n",
            "\u001b[K     |████████████████████████████████| 62 kB 424 kB/s \n",
            "\u001b[?25hCollecting redis>=3.5.3\n",
            "  Downloading redis-4.3.4-py3-none-any.whl (246 kB)\n",
            "\u001b[K     |████████████████████████████████| 246 kB 26.1 MB/s \n",
            "\u001b[?25hCollecting urllib3>=1.26.0\n",
            "  Downloading urllib3-1.26.9-py2.py3-none-any.whl (138 kB)\n",
            "\u001b[K     |████████████████████████████████| 138 kB 28.4 MB/s \n",
            "\u001b[?25hRequirement already satisfied: six>=1.15.0 in /usr/local/lib/python3.7/dist-packages (from spotipy) (1.15.0)\n",
            "Requirement already satisfied: typing-extensions in /usr/local/lib/python3.7/dist-packages (from redis>=3.5.3->spotipy) (4.1.1)\n",
            "Collecting deprecated>=1.2.3\n",
            "  Downloading Deprecated-1.2.13-py2.py3-none-any.whl (9.6 kB)\n",
            "Requirement already satisfied: importlib-metadata>=1.0 in /usr/local/lib/python3.7/dist-packages (from redis>=3.5.3->spotipy) (4.11.4)\n",
            "Collecting async-timeout>=4.0.2\n",
            "  Downloading async_timeout-4.0.2-py3-none-any.whl (5.8 kB)\n",
            "Requirement already satisfied: packaging>=20.4 in /usr/local/lib/python3.7/dist-packages (from redis>=3.5.3->spotipy) (21.3)\n",
            "Requirement already satisfied: wrapt<2,>=1.10 in /usr/local/lib/python3.7/dist-packages (from deprecated>=1.2.3->redis>=3.5.3->spotipy) (1.14.1)\n",
            "Requirement already satisfied: zipp>=0.5 in /usr/local/lib/python3.7/dist-packages (from importlib-metadata>=1.0->redis>=3.5.3->spotipy) (3.8.0)\n",
            "Requirement already satisfied: pyparsing!=3.0.5,>=2.0.2 in /usr/local/lib/python3.7/dist-packages (from packaging>=20.4->redis>=3.5.3->spotipy) (3.0.9)\n",
            "Requirement already satisfied: certifi>=2017.4.17 in /usr/local/lib/python3.7/dist-packages (from requests>=2.25.0->spotipy) (2022.6.15)\n",
            "Requirement already satisfied: charset-normalizer~=2.0.0 in /usr/local/lib/python3.7/dist-packages (from requests>=2.25.0->spotipy) (2.0.12)\n",
            "Requirement already satisfied: idna<4,>=2.5 in /usr/local/lib/python3.7/dist-packages (from requests>=2.25.0->spotipy) (2.10)\n",
            "Installing collected packages: urllib3, deprecated, async-timeout, requests, redis, spotipy\n",
            "  Attempting uninstall: urllib3\n",
            "    Found existing installation: urllib3 1.24.3\n",
            "    Uninstalling urllib3-1.24.3:\n",
            "      Successfully uninstalled urllib3-1.24.3\n",
            "  Attempting uninstall: requests\n",
            "    Found existing installation: requests 2.23.0\n",
            "    Uninstalling requests-2.23.0:\n",
            "      Successfully uninstalled requests-2.23.0\n",
            "\u001b[31mERROR: pip's dependency resolver does not currently take into account all the packages that are installed. This behaviour is the source of the following dependency conflicts.\n",
            "google-colab 1.0.0 requires requests~=2.23.0, but you have requests 2.28.0 which is incompatible.\n",
            "datascience 0.10.6 requires folium==0.2.1, but you have folium 0.8.3 which is incompatible.\u001b[0m\n",
            "Successfully installed async-timeout-4.0.2 deprecated-1.2.13 redis-4.3.4 requests-2.28.0 spotipy-2.20.0 urllib3-1.26.9\n"
          ]
        }
      ],
      "source": [
        "!pip install spotipy"
      ]
    },
    {
      "cell_type": "code",
      "source": [
        "import spotipy\n",
        "from spotipy.oauth2 import SpotifyClientCredentials \n",
        "client_id = \"ccb7071383a64d68ae78ca2a1922f939\"\n",
        "client_secret = \"af5afee6a538454a852bf5e577eb2ced\"\n",
        "client_credentials_manager = SpotifyClientCredentials(client_id=client_id, client_secret=client_secret)\n",
        "sp = spotipy.Spotify(client_credentials_manager=client_credentials_manager) "
      ],
      "metadata": {
        "id": "svsMlovpSN_A"
      },
      "execution_count": 3,
      "outputs": []
    },
    {
      "cell_type": "code",
      "source": [
        "playlist_link = \"spotify:playlist:37i9dQZF1EM2Qkk2MTLxJE\"\n",
        "playlist_URI = playlist_link.split(\"/\")[-1].split(\"?\")[0]\n",
        "track_uris = [x[\"track\"][\"uri\"] for x in sp.playlist_tracks(playlist_URI)[\"items\"]]"
      ],
      "metadata": {
        "id": "S--h1kloSlMh"
      },
      "execution_count": 4,
      "outputs": []
    },
    {
      "cell_type": "code",
      "source": [
        "uri = playlist_URI\n",
        "username = uri.split(':')[2]\n",
        "playlist_id = uri.split(':')[2]"
      ],
      "metadata": {
        "id": "nfRm_dDpWS7t"
      },
      "execution_count": 18,
      "outputs": []
    },
    {
      "cell_type": "code",
      "source": [
        "results = sp.user_playlist(username, playlist_id, 'tracks')"
      ],
      "metadata": {
        "id": "NWJmA4EZWpe9"
      },
      "execution_count": 19,
      "outputs": []
    },
    {
      "cell_type": "code",
      "source": [
        "playlist_tracks_data = results['tracks']\n",
        "playlist_tracks_id = []\n",
        "playlist_tracks_titles = []\n",
        "playlist_tracks_artists = []\n",
        "playlist_tracks_first_artists = []\n",
        "\n",
        "for track in playlist_tracks_data['items']:\n",
        "    playlist_tracks_id.append(track['track']['id'])\n",
        "    playlist_tracks_titles.append(track['track']['name'])\n",
        "    # adds a list of all artists involved in the song to the list of artists for the playlist\n",
        "    artist_list = []\n",
        "    for artist in track['track']['artists']:\n",
        "        artist_list.append(artist['name'])\n",
        "    playlist_tracks_artists.append(artist_list)\n",
        "    playlist_tracks_first_artists.append(artist_list[0])\n"
      ],
      "metadata": {
        "id": "KU3IA_cFWz54"
      },
      "execution_count": 20,
      "outputs": []
    },
    {
      "cell_type": "code",
      "source": [
        "features = sp.audio_features(playlist_tracks_id)"
      ],
      "metadata": {
        "id": "MpcgM6biW4mP"
      },
      "execution_count": 21,
      "outputs": []
    },
    {
      "cell_type": "code",
      "source": [
        "import numpy as np\n",
        "import pandas as pd"
      ],
      "metadata": {
        "id": "HTV-6ProW7_Z"
      },
      "execution_count": 22,
      "outputs": []
    },
    {
      "cell_type": "code",
      "source": [
        "features_df = pd.DataFrame(data=features, columns=features[0].keys())"
      ],
      "metadata": {
        "id": "4Qpgh6akYhPo"
      },
      "execution_count": 28,
      "outputs": []
    },
    {
      "cell_type": "code",
      "source": [
        "#get the audio features of the songs in the playlist to store in dataframe"
      ],
      "metadata": {
        "id": "E33GjyiwYS7I"
      },
      "execution_count": null,
      "outputs": []
    },
    {
      "cell_type": "code",
      "source": [
        "features_df['title'] = playlist_tracks_titles\n",
        "features_df['first_artist'] = playlist_tracks_first_artists\n",
        "features_df['all_artists'] = playlist_tracks_artists\n",
        "features_df['id'] = playlist_tracks_id"
      ],
      "metadata": {
        "id": "7rfE3331XjYr"
      },
      "execution_count": 39,
      "outputs": []
    },
    {
      "cell_type": "code",
      "source": [
        "features_df = features_df[['id', 'title', 'first_artist', 'all_artists',\n",
        "                           'danceability', 'energy', 'key', 'loudness',\n",
        "                           'mode', 'acousticness', 'instrumentalness', \n",
        "                           'liveness', 'valence', 'tempo',\n",
        "                           'duration_ms', 'time_signature']]\n",
        "\n",
        "features_df.tail()"
      ],
      "metadata": {
        "colab": {
          "base_uri": "https://localhost:8080/",
          "height": 418
        },
        "id": "coXxyhxLZZ6q",
        "outputId": "f453b592-ee96-4688-9b80-3436dcf58433"
      },
      "execution_count": 40,
      "outputs": [
        {
          "output_type": "execute_result",
          "data": {
            "text/plain": [
              "                                            id                         title  \\\n",
              "id                                                                             \n",
              "35Ug04U7NH8fQTYqnIiuLj  35Ug04U7NH8fQTYqnIiuLj           The Queen of Hearts   \n",
              "3cBBH5fehQi4o4UvMqUpOP  3cBBH5fehQi4o4UvMqUpOP   You Don't Have to be Lonely   \n",
              "6LJBbJ4LyoVlhybwS2v3ET  6LJBbJ4LyoVlhybwS2v3ET                       But You   \n",
              "0xTSTNqREWKDIndmR9QSSc  0xTSTNqREWKDIndmR9QSSc  L.A. (Remix feat. Westerman)   \n",
              "11VwZwNF29HrqwalYUMitb  11VwZwNF29HrqwalYUMitb                Pale Blue Eyes   \n",
              "\n",
              "                                       first_artist  \\\n",
              "id                                                    \n",
              "35Ug04U7NH8fQTYqnIiuLj                  Ezra Furman   \n",
              "3cBBH5fehQi4o4UvMqUpOP  The Undercover Dream Lovers   \n",
              "6LJBbJ4LyoVlhybwS2v3ET             Alexandra Savior   \n",
              "0xTSTNqREWKDIndmR9QSSc                   Amen Dunes   \n",
              "11VwZwNF29HrqwalYUMitb       The Velvet Underground   \n",
              "\n",
              "                                          all_artists  danceability  energy  \\\n",
              "id                                                                            \n",
              "35Ug04U7NH8fQTYqnIiuLj                  [Ezra Furman]         0.493   0.503   \n",
              "3cBBH5fehQi4o4UvMqUpOP  [The Undercover Dream Lovers]         0.825   0.695   \n",
              "6LJBbJ4LyoVlhybwS2v3ET             [Alexandra Savior]         0.368   0.611   \n",
              "0xTSTNqREWKDIndmR9QSSc        [Amen Dunes, Westerman]         0.624   0.645   \n",
              "11VwZwNF29HrqwalYUMitb       [The Velvet Underground]         0.637   0.107   \n",
              "\n",
              "                        key  loudness  mode  acousticness  instrumentalness  \\\n",
              "id                                                                            \n",
              "35Ug04U7NH8fQTYqnIiuLj    7    -8.887     1         0.351          0.000178   \n",
              "3cBBH5fehQi4o4UvMqUpOP    0    -5.767     1         0.192          0.728000   \n",
              "6LJBbJ4LyoVlhybwS2v3ET   11    -6.917     0         0.455          0.198000   \n",
              "0xTSTNqREWKDIndmR9QSSc    7    -9.362     1         0.117          0.111000   \n",
              "11VwZwNF29HrqwalYUMitb    5   -18.759     1         0.911          0.001460   \n",
              "\n",
              "                        liveness  valence    tempo  duration_ms  \\\n",
              "id                                                                \n",
              "35Ug04U7NH8fQTYqnIiuLj    0.1110    0.541  203.819       297000   \n",
              "3cBBH5fehQi4o4UvMqUpOP    0.1330    0.847  119.999       245400   \n",
              "6LJBbJ4LyoVlhybwS2v3ET    0.0952    0.199   80.096       173523   \n",
              "0xTSTNqREWKDIndmR9QSSc    0.0884    0.193  133.044       364520   \n",
              "11VwZwNF29HrqwalYUMitb    0.1030    0.296   82.879       339533   \n",
              "\n",
              "                        time_signature  \n",
              "id                                      \n",
              "35Ug04U7NH8fQTYqnIiuLj               4  \n",
              "3cBBH5fehQi4o4UvMqUpOP               4  \n",
              "6LJBbJ4LyoVlhybwS2v3ET               4  \n",
              "0xTSTNqREWKDIndmR9QSSc               4  \n",
              "11VwZwNF29HrqwalYUMitb               4  "
            ],
            "text/html": [
              "\n",
              "  <div id=\"df-b2a3d1fd-1c5c-4349-beba-501d335bd51a\">\n",
              "    <div class=\"colab-df-container\">\n",
              "      <div>\n",
              "<style scoped>\n",
              "    .dataframe tbody tr th:only-of-type {\n",
              "        vertical-align: middle;\n",
              "    }\n",
              "\n",
              "    .dataframe tbody tr th {\n",
              "        vertical-align: top;\n",
              "    }\n",
              "\n",
              "    .dataframe thead th {\n",
              "        text-align: right;\n",
              "    }\n",
              "</style>\n",
              "<table border=\"1\" class=\"dataframe\">\n",
              "  <thead>\n",
              "    <tr style=\"text-align: right;\">\n",
              "      <th></th>\n",
              "      <th>id</th>\n",
              "      <th>title</th>\n",
              "      <th>first_artist</th>\n",
              "      <th>all_artists</th>\n",
              "      <th>danceability</th>\n",
              "      <th>energy</th>\n",
              "      <th>key</th>\n",
              "      <th>loudness</th>\n",
              "      <th>mode</th>\n",
              "      <th>acousticness</th>\n",
              "      <th>instrumentalness</th>\n",
              "      <th>liveness</th>\n",
              "      <th>valence</th>\n",
              "      <th>tempo</th>\n",
              "      <th>duration_ms</th>\n",
              "      <th>time_signature</th>\n",
              "    </tr>\n",
              "    <tr>\n",
              "      <th>id</th>\n",
              "      <th></th>\n",
              "      <th></th>\n",
              "      <th></th>\n",
              "      <th></th>\n",
              "      <th></th>\n",
              "      <th></th>\n",
              "      <th></th>\n",
              "      <th></th>\n",
              "      <th></th>\n",
              "      <th></th>\n",
              "      <th></th>\n",
              "      <th></th>\n",
              "      <th></th>\n",
              "      <th></th>\n",
              "      <th></th>\n",
              "      <th></th>\n",
              "    </tr>\n",
              "  </thead>\n",
              "  <tbody>\n",
              "    <tr>\n",
              "      <th>35Ug04U7NH8fQTYqnIiuLj</th>\n",
              "      <td>35Ug04U7NH8fQTYqnIiuLj</td>\n",
              "      <td>The Queen of Hearts</td>\n",
              "      <td>Ezra Furman</td>\n",
              "      <td>[Ezra Furman]</td>\n",
              "      <td>0.493</td>\n",
              "      <td>0.503</td>\n",
              "      <td>7</td>\n",
              "      <td>-8.887</td>\n",
              "      <td>1</td>\n",
              "      <td>0.351</td>\n",
              "      <td>0.000178</td>\n",
              "      <td>0.1110</td>\n",
              "      <td>0.541</td>\n",
              "      <td>203.819</td>\n",
              "      <td>297000</td>\n",
              "      <td>4</td>\n",
              "    </tr>\n",
              "    <tr>\n",
              "      <th>3cBBH5fehQi4o4UvMqUpOP</th>\n",
              "      <td>3cBBH5fehQi4o4UvMqUpOP</td>\n",
              "      <td>You Don't Have to be Lonely</td>\n",
              "      <td>The Undercover Dream Lovers</td>\n",
              "      <td>[The Undercover Dream Lovers]</td>\n",
              "      <td>0.825</td>\n",
              "      <td>0.695</td>\n",
              "      <td>0</td>\n",
              "      <td>-5.767</td>\n",
              "      <td>1</td>\n",
              "      <td>0.192</td>\n",
              "      <td>0.728000</td>\n",
              "      <td>0.1330</td>\n",
              "      <td>0.847</td>\n",
              "      <td>119.999</td>\n",
              "      <td>245400</td>\n",
              "      <td>4</td>\n",
              "    </tr>\n",
              "    <tr>\n",
              "      <th>6LJBbJ4LyoVlhybwS2v3ET</th>\n",
              "      <td>6LJBbJ4LyoVlhybwS2v3ET</td>\n",
              "      <td>But You</td>\n",
              "      <td>Alexandra Savior</td>\n",
              "      <td>[Alexandra Savior]</td>\n",
              "      <td>0.368</td>\n",
              "      <td>0.611</td>\n",
              "      <td>11</td>\n",
              "      <td>-6.917</td>\n",
              "      <td>0</td>\n",
              "      <td>0.455</td>\n",
              "      <td>0.198000</td>\n",
              "      <td>0.0952</td>\n",
              "      <td>0.199</td>\n",
              "      <td>80.096</td>\n",
              "      <td>173523</td>\n",
              "      <td>4</td>\n",
              "    </tr>\n",
              "    <tr>\n",
              "      <th>0xTSTNqREWKDIndmR9QSSc</th>\n",
              "      <td>0xTSTNqREWKDIndmR9QSSc</td>\n",
              "      <td>L.A. (Remix feat. Westerman)</td>\n",
              "      <td>Amen Dunes</td>\n",
              "      <td>[Amen Dunes, Westerman]</td>\n",
              "      <td>0.624</td>\n",
              "      <td>0.645</td>\n",
              "      <td>7</td>\n",
              "      <td>-9.362</td>\n",
              "      <td>1</td>\n",
              "      <td>0.117</td>\n",
              "      <td>0.111000</td>\n",
              "      <td>0.0884</td>\n",
              "      <td>0.193</td>\n",
              "      <td>133.044</td>\n",
              "      <td>364520</td>\n",
              "      <td>4</td>\n",
              "    </tr>\n",
              "    <tr>\n",
              "      <th>11VwZwNF29HrqwalYUMitb</th>\n",
              "      <td>11VwZwNF29HrqwalYUMitb</td>\n",
              "      <td>Pale Blue Eyes</td>\n",
              "      <td>The Velvet Underground</td>\n",
              "      <td>[The Velvet Underground]</td>\n",
              "      <td>0.637</td>\n",
              "      <td>0.107</td>\n",
              "      <td>5</td>\n",
              "      <td>-18.759</td>\n",
              "      <td>1</td>\n",
              "      <td>0.911</td>\n",
              "      <td>0.001460</td>\n",
              "      <td>0.1030</td>\n",
              "      <td>0.296</td>\n",
              "      <td>82.879</td>\n",
              "      <td>339533</td>\n",
              "      <td>4</td>\n",
              "    </tr>\n",
              "  </tbody>\n",
              "</table>\n",
              "</div>\n",
              "      <button class=\"colab-df-convert\" onclick=\"convertToInteractive('df-b2a3d1fd-1c5c-4349-beba-501d335bd51a')\"\n",
              "              title=\"Convert this dataframe to an interactive table.\"\n",
              "              style=\"display:none;\">\n",
              "        \n",
              "  <svg xmlns=\"http://www.w3.org/2000/svg\" height=\"24px\"viewBox=\"0 0 24 24\"\n",
              "       width=\"24px\">\n",
              "    <path d=\"M0 0h24v24H0V0z\" fill=\"none\"/>\n",
              "    <path d=\"M18.56 5.44l.94 2.06.94-2.06 2.06-.94-2.06-.94-.94-2.06-.94 2.06-2.06.94zm-11 1L8.5 8.5l.94-2.06 2.06-.94-2.06-.94L8.5 2.5l-.94 2.06-2.06.94zm10 10l.94 2.06.94-2.06 2.06-.94-2.06-.94-.94-2.06-.94 2.06-2.06.94z\"/><path d=\"M17.41 7.96l-1.37-1.37c-.4-.4-.92-.59-1.43-.59-.52 0-1.04.2-1.43.59L10.3 9.45l-7.72 7.72c-.78.78-.78 2.05 0 2.83L4 21.41c.39.39.9.59 1.41.59.51 0 1.02-.2 1.41-.59l7.78-7.78 2.81-2.81c.8-.78.8-2.07 0-2.86zM5.41 20L4 18.59l7.72-7.72 1.47 1.35L5.41 20z\"/>\n",
              "  </svg>\n",
              "      </button>\n",
              "      \n",
              "  <style>\n",
              "    .colab-df-container {\n",
              "      display:flex;\n",
              "      flex-wrap:wrap;\n",
              "      gap: 12px;\n",
              "    }\n",
              "\n",
              "    .colab-df-convert {\n",
              "      background-color: #E8F0FE;\n",
              "      border: none;\n",
              "      border-radius: 50%;\n",
              "      cursor: pointer;\n",
              "      display: none;\n",
              "      fill: #1967D2;\n",
              "      height: 32px;\n",
              "      padding: 0 0 0 0;\n",
              "      width: 32px;\n",
              "    }\n",
              "\n",
              "    .colab-df-convert:hover {\n",
              "      background-color: #E2EBFA;\n",
              "      box-shadow: 0px 1px 2px rgba(60, 64, 67, 0.3), 0px 1px 3px 1px rgba(60, 64, 67, 0.15);\n",
              "      fill: #174EA6;\n",
              "    }\n",
              "\n",
              "    [theme=dark] .colab-df-convert {\n",
              "      background-color: #3B4455;\n",
              "      fill: #D2E3FC;\n",
              "    }\n",
              "\n",
              "    [theme=dark] .colab-df-convert:hover {\n",
              "      background-color: #434B5C;\n",
              "      box-shadow: 0px 1px 3px 1px rgba(0, 0, 0, 0.15);\n",
              "      filter: drop-shadow(0px 1px 2px rgba(0, 0, 0, 0.3));\n",
              "      fill: #FFFFFF;\n",
              "    }\n",
              "  </style>\n",
              "\n",
              "      <script>\n",
              "        const buttonEl =\n",
              "          document.querySelector('#df-b2a3d1fd-1c5c-4349-beba-501d335bd51a button.colab-df-convert');\n",
              "        buttonEl.style.display =\n",
              "          google.colab.kernel.accessAllowed ? 'block' : 'none';\n",
              "\n",
              "        async function convertToInteractive(key) {\n",
              "          const element = document.querySelector('#df-b2a3d1fd-1c5c-4349-beba-501d335bd51a');\n",
              "          const dataTable =\n",
              "            await google.colab.kernel.invokeFunction('convertToInteractive',\n",
              "                                                     [key], {});\n",
              "          if (!dataTable) return;\n",
              "\n",
              "          const docLinkHtml = 'Like what you see? Visit the ' +\n",
              "            '<a target=\"_blank\" href=https://colab.research.google.com/notebooks/data_table.ipynb>data table notebook</a>'\n",
              "            + ' to learn more about interactive tables.';\n",
              "          element.innerHTML = '';\n",
              "          dataTable['output_type'] = 'display_data';\n",
              "          await google.colab.output.renderOutput(dataTable, element);\n",
              "          const docLink = document.createElement('div');\n",
              "          docLink.innerHTML = docLinkHtml;\n",
              "          element.appendChild(docLink);\n",
              "        }\n",
              "      </script>\n",
              "    </div>\n",
              "  </div>\n",
              "  "
            ]
          },
          "metadata": {},
          "execution_count": 40
        }
      ]
    },
    {
      "cell_type": "code",
      "source": [
        "#Data Exploration"
      ],
      "metadata": {
        "id": "ATMtKXtCW3MB"
      },
      "execution_count": null,
      "outputs": []
    },
    {
      "cell_type": "code",
      "source": [
        "import matplotlib.pyplot as plt\n",
        "import seaborn as sns\n",
        "%matplotlib inline"
      ],
      "metadata": {
        "id": "t-ACywoha-Yn"
      },
      "execution_count": 42,
      "outputs": []
    },
    {
      "cell_type": "code",
      "source": [
        "#count plot will tell what artists have most songs in the playlist"
      ],
      "metadata": {
        "id": "GVJszItjbASO"
      },
      "execution_count": null,
      "outputs": []
    },
    {
      "cell_type": "code",
      "source": [
        "plt.figure(figsize=(20,30))\n",
        "sns.countplot(features_df['first_artist'])\n",
        "plt.xticks(rotation=90)"
      ],
      "metadata": {
        "colab": {
          "base_uri": "https://localhost:8080/",
          "height": 1000
        },
        "id": "TUxOV5ymbH6s",
        "outputId": "162f1986-d850-436a-cbc1-a812cc48c375"
      },
      "execution_count": 44,
      "outputs": [
        {
          "output_type": "stream",
          "name": "stderr",
          "text": [
            "/usr/local/lib/python3.7/dist-packages/seaborn/_decorators.py:43: FutureWarning: Pass the following variable as a keyword arg: x. From version 0.12, the only valid positional argument will be `data`, and passing other arguments without an explicit keyword will result in an error or misinterpretation.\n",
            "  FutureWarning\n"
          ]
        },
        {
          "output_type": "execute_result",
          "data": {
            "text/plain": [
              "(array([ 0,  1,  2,  3,  4,  5,  6,  7,  8,  9, 10, 11, 12, 13, 14, 15, 16,\n",
              "        17, 18, 19, 20, 21, 22, 23, 24, 25, 26, 27, 28, 29, 30, 31, 32, 33,\n",
              "        34, 35, 36, 37, 38, 39, 40, 41, 42, 43, 44, 45, 46, 47, 48, 49, 50,\n",
              "        51, 52, 53, 54, 55, 56, 57, 58, 59, 60, 61, 62, 63, 64, 65, 66, 67,\n",
              "        68, 69, 70, 71, 72, 73, 74, 75, 76, 77, 78, 79, 80, 81, 82]),\n",
              " <a list of 83 Text major ticklabel objects>)"
            ]
          },
          "metadata": {},
          "execution_count": 44
        },
        {
          "output_type": "stream",
          "name": "stderr",
          "text": [
            "/usr/local/lib/python3.7/dist-packages/matplotlib/backends/backend_agg.py:214: RuntimeWarning: Glyph 24037 missing from current font.\n",
            "  font.set_text(s, 0.0, flags=flags)\n",
            "/usr/local/lib/python3.7/dist-packages/matplotlib/backends/backend_agg.py:183: RuntimeWarning: Glyph 24037 missing from current font.\n",
            "  font.set_text(s, 0, flags=flags)\n"
          ]
        },
        {
          "output_type": "display_data",
          "data": {
            "text/plain": [
              "<Figure size 1440x2160 with 1 Axes>"
            ],
            "image/png": "[encoded data removed]"
          },
          "metadata": {
            "needs_background": "light"
          }
        }
      ]
    },
    {
      "cell_type": "code",
      "source": [
        "#audio analysis"
      ],
      "metadata": {
        "id": "mgomT2LabSzG"
      },
      "execution_count": null,
      "outputs": []
    },
    {
      "cell_type": "code",
      "source": [
        "#spotify will analyze a song on the basis of bars, beats, sections,\n",
        "#tatum and segments. "
      ],
      "metadata": {
        "id": "-v29BbTcbbOL"
      },
      "execution_count": null,
      "outputs": []
    },
    {
      "cell_type": "code",
      "source": [
        "num_bars = []\n",
        "num_sections = []\n",
        "num_segments = []\n",
        "\n",
        "for i in range (0, len(features_df['id'])):\n",
        "  analysis = sp.audio_analysis(features_df.iloc[i]['id'])\n",
        "  num_bars.append(len(analysis['bars'])) #beats/time sig\n",
        "  num_sections.append(len(analysis['sections']))\n",
        "  num_segments.append(len(analysis['segments']))"
      ],
      "metadata": {
        "id": "2228mUhqbjmv"
      },
      "execution_count": 45,
      "outputs": []
    },
    {
      "cell_type": "code",
      "source": [
        "plt.figure(figsize=(16,4))\n",
        "plt.subplot(1,3,1)\n",
        "plt.hist(num_bars, bins=20)\n",
        "plt.xlabel('num_bars')\n",
        "plt.subplot(1,3,1)\n",
        "plt.hist(num_sections, bins=20)\n",
        "plt.xlabel('num_sections')\n",
        "plt.subplot(1,3,3)\n",
        "plt.hist(num_segments, bins=20)\n",
        "plt.xlabel('num_segments')"
      ],
      "metadata": {
        "colab": {
          "base_uri": "https://localhost:8080/",
          "height": 279
        },
        "id": "tZ_gelMTb5xQ",
        "outputId": "7a55422a-a7f3-4361-9351-24c58e67c59b"
      },
      "execution_count": 47,
      "outputs": [
        {
          "output_type": "stream",
          "name": "stderr",
          "text": [
            "/usr/local/lib/python3.7/dist-packages/ipykernel_launcher.py:5: MatplotlibDeprecationWarning: Adding an axes using the same arguments as a previous axes currently reuses the earlier instance.  In a future version, a new instance will always be created and returned.  Meanwhile, this warning can be suppressed, and the future behavior ensured, by passing a unique label to each axes instance.\n",
            "  \"\"\"\n"
          ]
        },
        {
          "output_type": "execute_result",
          "data": {
            "text/plain": [
              "Text(0.5, 0, 'num_segments')"
            ]
          },
          "metadata": {},
          "execution_count": 47
        },
        {
          "output_type": "display_data",
          "data": {
            "text/plain": [
              "<Figure size 1152x288 with 2 Axes>"
            ],
            "image/png": "[encoded data removed]"
          },
          "metadata": {
            "needs_background": "light"
          }
        }
      ]
    }
  ]
}